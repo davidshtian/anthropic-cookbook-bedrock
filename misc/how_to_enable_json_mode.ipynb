{
 "cells": [
  {
   "cell_type": "markdown",
   "id": "20de56a8",
   "metadata": {},
   "source": [
    "# Prompting Claude for \"JSON Mode\""
   ]
  },
  {
   "cell_type": "markdown",
   "id": "8e7fe136",
   "metadata": {},
   "source": [
    "Claude doesn't have a formal \"JSON Mode\" with constrained sampling. But not to worry -- you can still get reliable JSON from Claude! This recipe will show you how."
   ]
  },
  {
   "cell_type": "markdown",
   "id": "e5e1a230",
   "metadata": {},
   "source": [
    "First, let's look at Claude's default behavior."
   ]
  },
  {
   "cell_type": "code",
   "execution_count": 1,
   "id": "0c07a2c1",
   "metadata": {},
   "outputs": [
    {
     "name": "stdout",
     "output_type": "stream",
     "text": [
      "Note: you may need to restart the kernel to use updated packages.\n"
     ]
    }
   ],
   "source": [
    "%pip install --quiet \"anthropic[bedrock]\""
   ]
  },
  {
   "cell_type": "code",
   "execution_count": 2,
   "id": "fc39114b",
   "metadata": {},
   "outputs": [],
   "source": [
    "from anthropic import AnthropicBedrock\n",
    "import json\n",
    "import re\n",
    "from pprint import pprint"
   ]
  },
  {
   "cell_type": "code",
   "execution_count": 3,
   "id": "1b991340",
   "metadata": {},
   "outputs": [
    {
     "ename": "NameError",
     "evalue": "name 'AnthropicB' is not defined",
     "output_type": "error",
     "traceback": [
      "\u001b[0;31m---------------------------------------------------------------------------\u001b[0m",
      "\u001b[0;31mNameError\u001b[0m                                 Traceback (most recent call last)",
      "Cell \u001b[0;32mIn[3], line 1\u001b[0m\n\u001b[0;32m----> 1\u001b[0m client \u001b[38;5;241m=\u001b[39m \u001b[43mAnthropicB\u001b[49m()\n\u001b[1;32m      2\u001b[0m MODEL_NAME \u001b[38;5;241m=\u001b[39m \u001b[38;5;124m\"\u001b[39m\u001b[38;5;124manthropic.claude-3-sonnet-20240229-v1:0\u001b[39m\u001b[38;5;124m\"\u001b[39m\n",
      "\u001b[0;31mNameError\u001b[0m: name 'AnthropicB' is not defined"
     ]
    }
   ],
   "source": [
    "client = AnthropicBedrock()\n",
    "MODEL_NAME = \"anthropic.claude-3-sonnet-20240229-v1:0\""
   ]
  },
  {
   "cell_type": "code",
   "execution_count": null,
   "id": "c28ca1ad",
   "metadata": {},
   "outputs": [],
   "source": [
    "message = client.messages.create(\n",
    "    model=MODEL_NAME,\n",
    "    max_tokens=1024,\n",
    "    messages=[\n",
    "        {\n",
    "            \"role\": \"user\", \n",
    "            \"content\": \"Give me a JSON dict with names of famous athletes & their sports.\"\n",
    "        },\n",
    "    ]\n",
    ").content[0].text\n",
    "print(message)"
   ]
  },
  {
   "cell_type": "markdown",
   "id": "0a63ad7e",
   "metadata": {},
   "source": [
    "Claude followed instructions and outputted a nice dictionary, which we can extract with code:"
   ]
  },
  {
   "cell_type": "code",
   "execution_count": null,
   "id": "08626553",
   "metadata": {},
   "outputs": [],
   "source": [
    "def extract_json(response):\n",
    "    json_start = response.index(\"{\")\n",
    "    json_end = response.rfind(\"}\")\n",
    "    return json.loads(response[json_start:json_end + 1])\n",
    "extract_json(message)"
   ]
  },
  {
   "cell_type": "markdown",
   "id": "39275885",
   "metadata": {},
   "source": [
    "But what if we want Claude to skip the preamble and go straight to the JSON? One simple way is to prefill Claude's response and include a \"{\" character."
   ]
  },
  {
   "cell_type": "code",
   "execution_count": null,
   "id": "155e088a",
   "metadata": {},
   "outputs": [],
   "source": [
    "message = client.messages.create(\n",
    "    model=MODEL_NAME,\n",
    "    max_tokens=1024,\n",
    "    messages=[\n",
    "        {\n",
    "            \"role\": \"user\", \n",
    "            \"content\": \"Give me a JSON dict with names of famous athletes & their sports.\"\n",
    "        },\n",
    "        {\n",
    "            \"role\": \"assistant\",\n",
    "            \"content\": \"Here is the JSON requested:\\n{\"\n",
    "        }\n",
    "    ]\n",
    ").content[0].text\n",
    "print(message)"
   ]
  },
  {
   "cell_type": "markdown",
   "id": "64e94c65",
   "metadata": {},
   "source": [
    "Now all we have to do is add back the \"{\" that we prefilled and we can extract the JSON."
   ]
  },
  {
   "cell_type": "code",
   "execution_count": null,
   "id": "6c066ac6",
   "metadata": {},
   "outputs": [],
   "source": [
    "output_json = json.loads(\"{\" + message[:message.rfind(\"}\") + 1])\n",
    "output_json"
   ]
  },
  {
   "cell_type": "markdown",
   "id": "cd4492fd",
   "metadata": {},
   "source": [
    "For very long and complicated prompts, which contain multiple JSON outputs so that a string search for \"{\" and \"}\" don't do the trick, you can also have Claude output each JSON item in specified tags for future extraction."
   ]
  },
  {
   "cell_type": "code",
   "execution_count": null,
   "id": "443ad932",
   "metadata": {},
   "outputs": [],
   "source": [
    "message = client.messages.create(\n",
    "    model=MODEL_NAME,\n",
    "    max_tokens=1024,\n",
    "    messages=[\n",
    "        {\n",
    "            \"role\": \"user\", \n",
    "            \"content\": \"\"\"Give me a JSON dict with the names of 5 famous athletes & their sports.\n",
    "Put this dictionary in <athlete_sports> tags. \n",
    "\n",
    "Then, for each athlete, output an additional JSON dictionary. In each of these additional dictionaries:\n",
    "- Include two keys: the athlete's first name and last name.\n",
    "- For the values, list three words that start with the same letter as that name.\n",
    "Put each of these additional dictionaries in separate <athlete_name> tags.\"\"\"\n",
    "        },\n",
    "        {\n",
    "            \"role\": \"assistant\",\n",
    "            \"content\": \"Here is the JSON requested:\"\n",
    "        }\n",
    "    ],\n",
    ").content[0].text\n",
    "print(message)"
   ]
  },
  {
   "cell_type": "markdown",
   "id": "74043369",
   "metadata": {},
   "source": [
    "Now, we can use an extraction regex to get all the dictionaries."
   ]
  },
  {
   "cell_type": "code",
   "execution_count": null,
   "id": "bd847a70",
   "metadata": {},
   "outputs": [],
   "source": [
    "import re\n",
    "def extract_between_tags(tag: str, string: str, strip: bool = False) -> list[str]:\n",
    "    ext_list = re.findall(f\"<{tag}>(.+?)</{tag}>\", string, re.DOTALL)\n",
    "    if strip:\n",
    "        ext_list = [e.strip() for e in ext_list]\n",
    "    return ext_list\n",
    "\n",
    "athlete_sports_dict = json.loads(extract_between_tags(\"athlete_sports\", message)[0])\n",
    "athlete_name_dicts = [\n",
    "    json.loads(d)\n",
    "    for d in extract_between_tags(\"athlete_name\", message)\n",
    "]"
   ]
  },
  {
   "cell_type": "code",
   "execution_count": null,
   "id": "eb61ee06",
   "metadata": {},
   "outputs": [],
   "source": [
    "pprint(athlete_sports_dict)"
   ]
  },
  {
   "cell_type": "code",
   "execution_count": null,
   "id": "57dade0f",
   "metadata": {},
   "outputs": [],
   "source": [
    "pprint(athlete_name_dicts, width=1)"
   ]
  },
  {
   "cell_type": "markdown",
   "id": "5e5854c0",
   "metadata": {},
   "source": [
    "So to recap:\n",
    "\n",
    "- You can use string parsing to extract the text between \"```json\" and \"```\" to get the JSON.\n",
    "- You can remove preambles *before* the JSON via a partial Assistant message. (However, this removes the possibility of having Claude do \"Chain of Thought\" for increased intelligence before beginning to output the JSON.)\n",
    "- You can get rid of text that comes *after* the JSON by using a stop sequence.\n",
    "- You can instruct Claude to output JSON in XML tags to make it easy to collect afterward for more complex prompts."
   ]
  }
 ],
 "metadata": {
  "kernelspec": {
   "display_name": "Python(3.9)",
   "language": "python",
   "name": "jupyter-venv"
  },
  "language_info": {
   "codemirror_mode": {
    "name": "ipython",
    "version": 3
   },
   "file_extension": ".py",
   "mimetype": "text/x-python",
   "name": "python",
   "nbconvert_exporter": "python",
   "pygments_lexer": "ipython3",
   "version": "3.9.16"
  }
 },
 "nbformat": 4,
 "nbformat_minor": 5
}
